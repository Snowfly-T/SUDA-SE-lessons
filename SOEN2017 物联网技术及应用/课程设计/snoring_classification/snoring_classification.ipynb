{
 "cells": [
  {
   "cell_type": "code",
   "execution_count": 27,
   "metadata": {},
   "outputs": [
    {
     "name": "stdout",
     "output_type": "stream",
     "text": [
      "正在读取软件包列表... 完成0%\n",
      "正在分析软件包的依赖关系树... 完成%\n",
      "正在读取状态信息... 完成                   \n",
      "libportaudio2 已经是最新版 (19.6.0-1.1)。\n",
      "升级了 0 个软件包，新安装了 0 个软件包，要卸载 0 个软件包，有 0 个软件包未被升级。\n",
      "Requirement already satisfied: tflite-model-maker in /home/snowflyt/miniconda3/lib/python3.8/site-packages (0.4.2)\n",
      "Requirement already satisfied: tensorflow-datasets>=2.1.0 in /home/snowflyt/miniconda3/lib/python3.8/site-packages (from tflite-model-maker) (4.7.0)\n",
      "Requirement already satisfied: numba==0.53 in /home/snowflyt/miniconda3/lib/python3.8/site-packages (from tflite-model-maker) (0.53.0)\n",
      "Requirement already satisfied: librosa==0.8.1 in /home/snowflyt/miniconda3/lib/python3.8/site-packages (from tflite-model-maker) (0.8.1)\n",
      "Requirement already satisfied: numpy>=1.17.3 in /home/snowflyt/miniconda3/lib/python3.8/site-packages (from tflite-model-maker) (1.23.4)\n",
      "Requirement already satisfied: tflite-support>=0.4.2 in /home/snowflyt/miniconda3/lib/python3.8/site-packages (from tflite-model-maker) (0.4.3)\n",
      "Requirement already satisfied: tensorflow-hub<0.13,>=0.7.0 in /home/snowflyt/miniconda3/lib/python3.8/site-packages (from tflite-model-maker) (0.12.0)\n",
      "Requirement already satisfied: absl-py>=0.10.0 in /home/snowflyt/miniconda3/lib/python3.8/site-packages (from tflite-model-maker) (1.3.0)\n",
      "Requirement already satisfied: flatbuffers>=2.0 in /home/snowflyt/miniconda3/lib/python3.8/site-packages (from tflite-model-maker) (2.0)\n",
      "Requirement already satisfied: tensorflowjs<3.19.0,>=2.4.0 in /home/snowflyt/miniconda3/lib/python3.8/site-packages (from tflite-model-maker) (3.18.0)\n",
      "Requirement already satisfied: tensorflow>=2.6.0 in /home/snowflyt/miniconda3/lib/python3.8/site-packages (from tflite-model-maker) (2.8.4)\n",
      "Requirement already satisfied: urllib3!=1.25.0,!=1.25.1,<1.26,>=1.21.1 in /home/snowflyt/miniconda3/lib/python3.8/site-packages (from tflite-model-maker) (1.25.11)\n",
      "Requirement already satisfied: sentencepiece>=0.1.91 in /home/snowflyt/miniconda3/lib/python3.8/site-packages (from tflite-model-maker) (0.1.97)\n",
      "Requirement already satisfied: tf-models-official==2.3.0 in /home/snowflyt/miniconda3/lib/python3.8/site-packages (from tflite-model-maker) (2.3.0)\n",
      "Requirement already satisfied: lxml>=4.6.1 in /home/snowflyt/miniconda3/lib/python3.8/site-packages (from tflite-model-maker) (4.9.1)\n",
      "Requirement already satisfied: scann==1.2.6 in /home/snowflyt/miniconda3/lib/python3.8/site-packages (from tflite-model-maker) (1.2.6)\n",
      "Requirement already satisfied: tensorflow-model-optimization>=0.5 in /home/snowflyt/miniconda3/lib/python3.8/site-packages (from tflite-model-maker) (0.7.3)\n",
      "Requirement already satisfied: fire>=0.3.1 in /home/snowflyt/miniconda3/lib/python3.8/site-packages (from tflite-model-maker) (0.4.0)\n",
      "Requirement already satisfied: tensorflow-addons>=0.11.2 in /home/snowflyt/miniconda3/lib/python3.8/site-packages (from tflite-model-maker) (0.19.0)\n",
      "Requirement already satisfied: neural-structured-learning>=1.3.1 in /home/snowflyt/miniconda3/lib/python3.8/site-packages (from tflite-model-maker) (1.4.0)\n",
      "Requirement already satisfied: PyYAML>=5.1 in /home/snowflyt/miniconda3/lib/python3.8/site-packages (from tflite-model-maker) (6.0)\n",
      "Requirement already satisfied: six>=1.12.0 in /home/snowflyt/miniconda3/lib/python3.8/site-packages (from tflite-model-maker) (1.16.0)\n",
      "Requirement already satisfied: pillow>=7.0.0 in /home/snowflyt/miniconda3/lib/python3.8/site-packages (from tflite-model-maker) (9.2.0)\n",
      "Requirement already satisfied: matplotlib<3.5.0,>=3.0.3 in /home/snowflyt/miniconda3/lib/python3.8/site-packages (from tflite-model-maker) (3.4.3)\n",
      "Requirement already satisfied: Cython>=0.29.13 in /home/snowflyt/miniconda3/lib/python3.8/site-packages (from tflite-model-maker) (0.29.32)\n",
      "Requirement already satisfied: resampy>=0.2.2 in /home/snowflyt/miniconda3/lib/python3.8/site-packages (from librosa==0.8.1->tflite-model-maker) (0.4.2)\n",
      "Requirement already satisfied: scipy>=1.0.0 in /home/snowflyt/miniconda3/lib/python3.8/site-packages (from librosa==0.8.1->tflite-model-maker) (1.9.3)\n",
      "Requirement already satisfied: scikit-learn!=0.19.0,>=0.14.0 in /home/snowflyt/miniconda3/lib/python3.8/site-packages (from librosa==0.8.1->tflite-model-maker) (1.2.0)\n",
      "Requirement already satisfied: decorator>=3.0.0 in /home/snowflyt/miniconda3/lib/python3.8/site-packages (from librosa==0.8.1->tflite-model-maker) (5.1.1)\n",
      "Requirement already satisfied: pooch>=1.0 in /home/snowflyt/miniconda3/lib/python3.8/site-packages (from librosa==0.8.1->tflite-model-maker) (1.6.0)\n",
      "Requirement already satisfied: joblib>=0.14 in /home/snowflyt/miniconda3/lib/python3.8/site-packages (from librosa==0.8.1->tflite-model-maker) (1.2.0)\n",
      "Requirement already satisfied: soundfile>=0.10.2 in /home/snowflyt/miniconda3/lib/python3.8/site-packages (from librosa==0.8.1->tflite-model-maker) (0.11.0)\n",
      "Requirement already satisfied: audioread>=2.0.0 in /home/snowflyt/miniconda3/lib/python3.8/site-packages (from librosa==0.8.1->tflite-model-maker) (3.0.0)\n",
      "Requirement already satisfied: packaging>=20.0 in /home/snowflyt/miniconda3/lib/python3.8/site-packages (from librosa==0.8.1->tflite-model-maker) (20.9)\n",
      "Requirement already satisfied: llvmlite<0.37,>=0.36.0rc1 in /home/snowflyt/miniconda3/lib/python3.8/site-packages (from numba==0.53->tflite-model-maker) (0.36.0)\n",
      "Requirement already satisfied: setuptools in /home/snowflyt/miniconda3/lib/python3.8/site-packages (from numba==0.53->tflite-model-maker) (65.5.0)\n",
      "Requirement already satisfied: google-cloud-bigquery>=0.31.0 in /home/snowflyt/miniconda3/lib/python3.8/site-packages (from tf-models-official==2.3.0->tflite-model-maker) (3.4.0)\n",
      "Requirement already satisfied: opencv-python-headless in /home/snowflyt/miniconda3/lib/python3.8/site-packages (from tf-models-official==2.3.0->tflite-model-maker) (4.6.0.66)\n",
      "Requirement already satisfied: tf-slim>=1.1.0 in /home/snowflyt/miniconda3/lib/python3.8/site-packages (from tf-models-official==2.3.0->tflite-model-maker) (1.1.0)\n",
      "Requirement already satisfied: psutil>=5.4.3 in /home/snowflyt/miniconda3/lib/python3.8/site-packages (from tf-models-official==2.3.0->tflite-model-maker) (5.9.0)\n",
      "Requirement already satisfied: py-cpuinfo>=3.3.0 in /home/snowflyt/miniconda3/lib/python3.8/site-packages (from tf-models-official==2.3.0->tflite-model-maker) (9.0.0)\n",
      "Requirement already satisfied: kaggle>=1.3.9 in /home/snowflyt/miniconda3/lib/python3.8/site-packages (from tf-models-official==2.3.0->tflite-model-maker) (1.5.12)\n",
      "Requirement already satisfied: dataclasses in /home/snowflyt/miniconda3/lib/python3.8/site-packages (from tf-models-official==2.3.0->tflite-model-maker) (0.6)\n",
      "Requirement already satisfied: gin-config in /home/snowflyt/miniconda3/lib/python3.8/site-packages (from tf-models-official==2.3.0->tflite-model-maker) (0.5.0)\n",
      "Requirement already satisfied: pandas>=0.22.0 in /home/snowflyt/miniconda3/lib/python3.8/site-packages (from tf-models-official==2.3.0->tflite-model-maker) (1.4.4)\n",
      "Requirement already satisfied: google-api-python-client>=1.6.7 in /home/snowflyt/miniconda3/lib/python3.8/site-packages (from tf-models-official==2.3.0->tflite-model-maker) (2.69.0)\n",
      "Requirement already satisfied: termcolor in /home/snowflyt/miniconda3/lib/python3.8/site-packages (from fire>=0.3.1->tflite-model-maker) (2.1.0)\n",
      "Requirement already satisfied: pyparsing>=2.2.1 in /home/snowflyt/miniconda3/lib/python3.8/site-packages (from matplotlib<3.5.0,>=3.0.3->tflite-model-maker) (3.0.9)\n",
      "Requirement already satisfied: cycler>=0.10 in /home/snowflyt/miniconda3/lib/python3.8/site-packages (from matplotlib<3.5.0,>=3.0.3->tflite-model-maker) (0.11.0)\n",
      "Requirement already satisfied: python-dateutil>=2.7 in /home/snowflyt/miniconda3/lib/python3.8/site-packages (from matplotlib<3.5.0,>=3.0.3->tflite-model-maker) (2.8.2)\n",
      "Requirement already satisfied: kiwisolver>=1.0.1 in /home/snowflyt/miniconda3/lib/python3.8/site-packages (from matplotlib<3.5.0,>=3.0.3->tflite-model-maker) (1.4.2)\n",
      "Requirement already satisfied: attrs in /home/snowflyt/miniconda3/lib/python3.8/site-packages (from neural-structured-learning>=1.3.1->tflite-model-maker) (22.1.0)\n",
      "Requirement already satisfied: keras<2.9,>=2.8.0rc0 in /home/snowflyt/miniconda3/lib/python3.8/site-packages (from tensorflow>=2.6.0->tflite-model-maker) (2.8.0)\n",
      "Requirement already satisfied: typing-extensions>=3.6.6 in /home/snowflyt/miniconda3/lib/python3.8/site-packages (from tensorflow>=2.6.0->tflite-model-maker) (4.4.0)\n",
      "Requirement already satisfied: tensorflow-io-gcs-filesystem>=0.23.1 in /home/snowflyt/miniconda3/lib/python3.8/site-packages (from tensorflow>=2.6.0->tflite-model-maker) (0.28.0)\n",
      "Requirement already satisfied: protobuf<3.20,>=3.9.2 in /home/snowflyt/miniconda3/lib/python3.8/site-packages (from tensorflow>=2.6.0->tflite-model-maker) (3.19.6)\n",
      "Requirement already satisfied: gast>=0.2.1 in /home/snowflyt/miniconda3/lib/python3.8/site-packages (from tensorflow>=2.6.0->tflite-model-maker) (0.4.0)\n",
      "Requirement already satisfied: tensorflow-estimator<2.9,>=2.8 in /home/snowflyt/miniconda3/lib/python3.8/site-packages (from tensorflow>=2.6.0->tflite-model-maker) (2.8.0)\n",
      "Requirement already satisfied: keras-preprocessing>=1.1.1 in /home/snowflyt/miniconda3/lib/python3.8/site-packages (from tensorflow>=2.6.0->tflite-model-maker) (1.1.2)\n",
      "Requirement already satisfied: tensorboard<2.9,>=2.8 in /home/snowflyt/miniconda3/lib/python3.8/site-packages (from tensorflow>=2.6.0->tflite-model-maker) (2.8.0)\n",
      "Requirement already satisfied: libclang>=9.0.1 in /home/snowflyt/miniconda3/lib/python3.8/site-packages (from tensorflow>=2.6.0->tflite-model-maker) (14.0.6)\n",
      "Requirement already satisfied: astunparse>=1.6.0 in /home/snowflyt/miniconda3/lib/python3.8/site-packages (from tensorflow>=2.6.0->tflite-model-maker) (1.6.3)\n",
      "Requirement already satisfied: opt-einsum>=2.3.2 in /home/snowflyt/miniconda3/lib/python3.8/site-packages (from tensorflow>=2.6.0->tflite-model-maker) (3.3.0)\n",
      "Requirement already satisfied: h5py>=2.9.0 in /home/snowflyt/miniconda3/lib/python3.8/site-packages (from tensorflow>=2.6.0->tflite-model-maker) (2.10.0)\n",
      "Requirement already satisfied: google-pasta>=0.1.1 in /home/snowflyt/miniconda3/lib/python3.8/site-packages (from tensorflow>=2.6.0->tflite-model-maker) (0.2.0)\n",
      "Requirement already satisfied: grpcio<2.0,>=1.24.3 in /home/snowflyt/miniconda3/lib/python3.8/site-packages (from tensorflow>=2.6.0->tflite-model-maker) (1.51.1)\n",
      "Requirement already satisfied: wrapt>=1.11.0 in /home/snowflyt/miniconda3/lib/python3.8/site-packages (from tensorflow>=2.6.0->tflite-model-maker) (1.14.1)\n",
      "Requirement already satisfied: typeguard>=2.7 in /home/snowflyt/miniconda3/lib/python3.8/site-packages (from tensorflow-addons>=0.11.2->tflite-model-maker) (2.13.3)\n",
      "Requirement already satisfied: toml in /home/snowflyt/miniconda3/lib/python3.8/site-packages (from tensorflow-datasets>=2.1.0->tflite-model-maker) (0.10.2)\n",
      "Requirement already satisfied: etils[epath] in /home/snowflyt/miniconda3/lib/python3.8/site-packages (from tensorflow-datasets>=2.1.0->tflite-model-maker) (0.9.0)\n",
      "Requirement already satisfied: tensorflow-metadata in /home/snowflyt/miniconda3/lib/python3.8/site-packages (from tensorflow-datasets>=2.1.0->tflite-model-maker) (1.12.0)\n",
      "Requirement already satisfied: requests>=2.19.0 in /home/snowflyt/miniconda3/lib/python3.8/site-packages (from tensorflow-datasets>=2.1.0->tflite-model-maker) (2.28.1)\n",
      "Requirement already satisfied: importlib-resources in /home/snowflyt/miniconda3/lib/python3.8/site-packages (from tensorflow-datasets>=2.1.0->tflite-model-maker) (5.10.1)\n",
      "Requirement already satisfied: tqdm in /home/snowflyt/miniconda3/lib/python3.8/site-packages (from tensorflow-datasets>=2.1.0->tflite-model-maker) (4.64.1)\n",
      "Requirement already satisfied: dill in /home/snowflyt/miniconda3/lib/python3.8/site-packages (from tensorflow-datasets>=2.1.0->tflite-model-maker) (0.3.6)\n",
      "Requirement already satisfied: promise in /home/snowflyt/miniconda3/lib/python3.8/site-packages (from tensorflow-datasets>=2.1.0->tflite-model-maker) (2.3)\n",
      "Requirement already satisfied: dm-tree~=0.1.1 in /home/snowflyt/miniconda3/lib/python3.8/site-packages (from tensorflow-model-optimization>=0.5->tflite-model-maker) (0.1.7)\n",
      "Requirement already satisfied: pybind11>=2.6.0 in /home/snowflyt/miniconda3/lib/python3.8/site-packages (from tflite-support>=0.4.2->tflite-model-maker) (2.10.1)\n",
      "Requirement already satisfied: sounddevice>=0.4.4 in /home/snowflyt/miniconda3/lib/python3.8/site-packages (from tflite-support>=0.4.2->tflite-model-maker) (0.4.5)\n",
      "Requirement already satisfied: wheel<1.0,>=0.23.0 in /home/snowflyt/miniconda3/lib/python3.8/site-packages (from astunparse>=1.6.0->tensorflow>=2.6.0->tflite-model-maker) (0.37.1)\n",
      "Requirement already satisfied: google-auth-httplib2>=0.1.0 in /home/snowflyt/miniconda3/lib/python3.8/site-packages (from google-api-python-client>=1.6.7->tf-models-official==2.3.0->tflite-model-maker) (0.1.0)\n",
      "Requirement already satisfied: httplib2<1dev,>=0.15.0 in /home/snowflyt/miniconda3/lib/python3.8/site-packages (from google-api-python-client>=1.6.7->tf-models-official==2.3.0->tflite-model-maker) (0.21.0)\n",
      "Requirement already satisfied: uritemplate<5,>=3.0.1 in /home/snowflyt/miniconda3/lib/python3.8/site-packages (from google-api-python-client>=1.6.7->tf-models-official==2.3.0->tflite-model-maker) (4.1.1)\n",
      "Requirement already satisfied: google-auth<3.0.0dev,>=1.19.0 in /home/snowflyt/miniconda3/lib/python3.8/site-packages (from google-api-python-client>=1.6.7->tf-models-official==2.3.0->tflite-model-maker) (2.15.0)\n",
      "Requirement already satisfied: google-api-core!=2.0.*,!=2.1.*,!=2.2.*,!=2.3.0,<3.0.0dev,>=1.31.5 in /home/snowflyt/miniconda3/lib/python3.8/site-packages (from google-api-python-client>=1.6.7->tf-models-official==2.3.0->tflite-model-maker) (2.11.0)\n",
      "Requirement already satisfied: proto-plus<2.0.0dev,>=1.22.0 in /home/snowflyt/miniconda3/lib/python3.8/site-packages (from google-cloud-bigquery>=0.31.0->tf-models-official==2.3.0->tflite-model-maker) (1.22.1)\n",
      "Requirement already satisfied: google-cloud-bigquery-storage<3.0.0dev,>=2.0.0 in /home/snowflyt/miniconda3/lib/python3.8/site-packages (from google-cloud-bigquery>=0.31.0->tf-models-official==2.3.0->tflite-model-maker) (2.16.2)\n",
      "Requirement already satisfied: google-resumable-media<3.0dev,>=0.6.0 in /home/snowflyt/miniconda3/lib/python3.8/site-packages (from google-cloud-bigquery>=0.31.0->tf-models-official==2.3.0->tflite-model-maker) (2.4.0)\n",
      "Requirement already satisfied: pyarrow<11.0dev,>=3.0.0 in /home/snowflyt/miniconda3/lib/python3.8/site-packages (from google-cloud-bigquery>=0.31.0->tf-models-official==2.3.0->tflite-model-maker) (10.0.1)\n",
      "Requirement already satisfied: google-cloud-core<3.0.0dev,>=1.4.1 in /home/snowflyt/miniconda3/lib/python3.8/site-packages (from google-cloud-bigquery>=0.31.0->tf-models-official==2.3.0->tflite-model-maker) (2.3.2)\n",
      "Requirement already satisfied: certifi in /home/snowflyt/miniconda3/lib/python3.8/site-packages (from kaggle>=1.3.9->tf-models-official==2.3.0->tflite-model-maker) (2022.9.24)\n",
      "Requirement already satisfied: python-slugify in /home/snowflyt/miniconda3/lib/python3.8/site-packages (from kaggle>=1.3.9->tf-models-official==2.3.0->tflite-model-maker) (7.0.0)\n",
      "Requirement already satisfied: pytz>=2020.1 in /home/snowflyt/miniconda3/lib/python3.8/site-packages (from pandas>=0.22.0->tf-models-official==2.3.0->tflite-model-maker) (2022.1)\n",
      "Requirement already satisfied: appdirs>=1.3.0 in /home/snowflyt/miniconda3/lib/python3.8/site-packages (from pooch>=1.0->librosa==0.8.1->tflite-model-maker) (1.4.4)\n",
      "Requirement already satisfied: idna<4,>=2.5 in /home/snowflyt/miniconda3/lib/python3.8/site-packages (from requests>=2.19.0->tensorflow-datasets>=2.1.0->tflite-model-maker) (3.4)\n",
      "Requirement already satisfied: charset-normalizer<3,>=2 in /home/snowflyt/miniconda3/lib/python3.8/site-packages (from requests>=2.19.0->tensorflow-datasets>=2.1.0->tflite-model-maker) (2.0.4)\n",
      "Requirement already satisfied: threadpoolctl>=2.0.0 in /home/snowflyt/miniconda3/lib/python3.8/site-packages (from scikit-learn!=0.19.0,>=0.14.0->librosa==0.8.1->tflite-model-maker) (3.1.0)\n",
      "Requirement already satisfied: CFFI>=1.0 in /home/snowflyt/miniconda3/lib/python3.8/site-packages (from sounddevice>=0.4.4->tflite-support>=0.4.2->tflite-model-maker) (1.15.1)\n",
      "Requirement already satisfied: google-auth-oauthlib<0.5,>=0.4.1 in /home/snowflyt/miniconda3/lib/python3.8/site-packages (from tensorboard<2.9,>=2.8->tensorflow>=2.6.0->tflite-model-maker) (0.4.4)\n",
      "Requirement already satisfied: werkzeug>=0.11.15 in /home/snowflyt/miniconda3/lib/python3.8/site-packages (from tensorboard<2.9,>=2.8->tensorflow>=2.6.0->tflite-model-maker) (2.0.3)\n",
      "Requirement already satisfied: markdown>=2.6.8 in /home/snowflyt/miniconda3/lib/python3.8/site-packages (from tensorboard<2.9,>=2.8->tensorflow>=2.6.0->tflite-model-maker) (3.3.4)\n",
      "Requirement already satisfied: tensorboard-plugin-wit>=1.6.0 in /home/snowflyt/miniconda3/lib/python3.8/site-packages (from tensorboard<2.9,>=2.8->tensorflow>=2.6.0->tflite-model-maker) (1.8.1)\n",
      "Requirement already satisfied: tensorboard-data-server<0.7.0,>=0.6.0 in /home/snowflyt/miniconda3/lib/python3.8/site-packages (from tensorboard<2.9,>=2.8->tensorflow>=2.6.0->tflite-model-maker) (0.6.0)\n",
      "Requirement already satisfied: zipp in /home/snowflyt/miniconda3/lib/python3.8/site-packages (from etils[epath]->tensorflow-datasets>=2.1.0->tflite-model-maker) (3.8.0)\n",
      "Requirement already satisfied: googleapis-common-protos<2,>=1.52.0 in /home/snowflyt/miniconda3/lib/python3.8/site-packages (from tensorflow-metadata->tensorflow-datasets>=2.1.0->tflite-model-maker) (1.57.0)\n",
      "Requirement already satisfied: pycparser in /home/snowflyt/miniconda3/lib/python3.8/site-packages (from CFFI>=1.0->sounddevice>=0.4.4->tflite-support>=0.4.2->tflite-model-maker) (2.21)\n",
      "Requirement already satisfied: grpcio-status<2.0dev,>=1.33.2 in /home/snowflyt/miniconda3/lib/python3.8/site-packages (from google-api-core!=2.0.*,!=2.1.*,!=2.2.*,!=2.3.0,<3.0.0dev,>=1.31.5->google-api-python-client>=1.6.7->tf-models-official==2.3.0->tflite-model-maker) (1.48.2)\n",
      "Requirement already satisfied: cachetools<6.0,>=2.0.0 in /home/snowflyt/miniconda3/lib/python3.8/site-packages (from google-auth<3.0.0dev,>=1.19.0->google-api-python-client>=1.6.7->tf-models-official==2.3.0->tflite-model-maker) (4.2.2)\n",
      "Requirement already satisfied: rsa<5,>=3.1.4 in /home/snowflyt/miniconda3/lib/python3.8/site-packages (from google-auth<3.0.0dev,>=1.19.0->google-api-python-client>=1.6.7->tf-models-official==2.3.0->tflite-model-maker) (4.7.2)\n",
      "Requirement already satisfied: pyasn1-modules>=0.2.1 in /home/snowflyt/miniconda3/lib/python3.8/site-packages (from google-auth<3.0.0dev,>=1.19.0->google-api-python-client>=1.6.7->tf-models-official==2.3.0->tflite-model-maker) (0.2.8)\n",
      "Requirement already satisfied: requests-oauthlib>=0.7.0 in /home/snowflyt/miniconda3/lib/python3.8/site-packages (from google-auth-oauthlib<0.5,>=0.4.1->tensorboard<2.9,>=2.8->tensorflow>=2.6.0->tflite-model-maker) (1.3.0)\n",
      "Requirement already satisfied: google-crc32c<2.0dev,>=1.0 in /home/snowflyt/miniconda3/lib/python3.8/site-packages (from google-resumable-media<3.0dev,>=0.6.0->google-cloud-bigquery>=0.31.0->tf-models-official==2.3.0->tflite-model-maker) (1.5.0)\n",
      "Requirement already satisfied: text-unidecode>=1.3 in /home/snowflyt/miniconda3/lib/python3.8/site-packages (from python-slugify->kaggle>=1.3.9->tf-models-official==2.3.0->tflite-model-maker) (1.3)\n",
      "Requirement already satisfied: pyasn1<0.5.0,>=0.4.6 in /home/snowflyt/miniconda3/lib/python3.8/site-packages (from pyasn1-modules>=0.2.1->google-auth<3.0.0dev,>=1.19.0->google-api-python-client>=1.6.7->tf-models-official==2.3.0->tflite-model-maker) (0.4.8)\n",
      "Requirement already satisfied: oauthlib>=3.0.0 in /home/snowflyt/miniconda3/lib/python3.8/site-packages (from requests-oauthlib>=0.7.0->google-auth-oauthlib<0.5,>=0.4.1->tensorboard<2.9,>=2.8->tensorflow>=2.6.0->tflite-model-maker) (3.2.1)\n",
      "Note: you may need to restart the kernel to use updated packages.\n"
     ]
    }
   ],
   "source": [
    "!sudo apt -y install libportaudio2\n",
    "%pip install tflite-model-maker"
   ]
  },
  {
   "cell_type": "code",
   "execution_count": 28,
   "metadata": {},
   "outputs": [
    {
     "name": "stdout",
     "output_type": "stream",
     "text": [
      "TensorFlow Version: 2.8.4\n",
      "Model Maker Version: 0.4.2\n"
     ]
    }
   ],
   "source": [
    "import tensorflow as tf\n",
    "import tflite_model_maker as mm\n",
    "from tflite_model_maker import audio_classifier\n",
    "import os\n",
    "\n",
    "import numpy as np\n",
    "import matplotlib.pyplot as plt\n",
    "import seaborn as sns\n",
    "\n",
    "import itertools\n",
    "import glob\n",
    "import random\n",
    "\n",
    "from IPython.display import Audio, Image\n",
    "from scipy.io import wavfile\n",
    "\n",
    "print(f\"TensorFlow Version: {tf.__version__}\")\n",
    "print(f\"Model Maker Version: {mm.__version__}\")"
   ]
  },
  {
   "cell_type": "code",
   "execution_count": 29,
   "metadata": {},
   "outputs": [],
   "source": [
    "data_dir = './dataset'\n",
    "\n",
    "test_files = os.path.abspath(os.path.join(data_dir, 'test/*/*.wav'))"
   ]
  },
  {
   "cell_type": "code",
   "execution_count": 30,
   "metadata": {},
   "outputs": [
    {
     "name": "stdout",
     "output_type": "stream",
     "text": [
      "functions and data structures created\n"
     ]
    }
   ],
   "source": [
    "def get_random_audio_file():\n",
    "    test_list = glob.glob(f'{data_dir}/test/snoring/*.wav')\n",
    "    random_audio_path = random.choice(test_list)\n",
    "    return random_audio_path\n",
    "\n",
    "\n",
    "def show_data(audio_path):\n",
    "    print(audio_path)\n",
    "    sample_rate, audio_data = wavfile.read(audio_path, 'rb')\n",
    "\n",
    "    plt.title('Snoring Audio')\n",
    "    plt.plot(audio_data)\n",
    "    display(Audio(audio_data, rate=sample_rate))\n",
    "\n",
    "\n",
    "print('functions and data structures created')"
   ]
  },
  {
   "cell_type": "code",
   "execution_count": 31,
   "metadata": {},
   "outputs": [],
   "source": [
    "# random_audio = get_random_audio_file()\n",
    "# show_data(random_audio)"
   ]
  },
  {
   "cell_type": "code",
   "execution_count": 32,
   "metadata": {},
   "outputs": [
    {
     "name": "stdout",
     "output_type": "stream",
     "text": [
      "INFO:tensorflow:Checkpoints are stored in /tmp/tmp7qk0pw7f\n"
     ]
    },
    {
     "name": "stderr",
     "output_type": "stream",
     "text": [
      "INFO:tensorflow:Checkpoints are stored in /tmp/tmp7qk0pw7f\n"
     ]
    }
   ],
   "source": [
    "spec = audio_classifier.YamNetSpec(\n",
    "    keep_yamnet_and_custom_heads=False,\n",
    "    frame_step=audio_classifier.YamNetSpec.EXPECTED_WAVEFORM_LENGTH,\n",
    "    frame_length=audio_classifier.YamNetSpec.EXPECTED_WAVEFORM_LENGTH)"
   ]
  },
  {
   "cell_type": "code",
   "execution_count": 33,
   "metadata": {},
   "outputs": [],
   "source": [
    "train_data = audio_classifier.DataLoader.from_folder(\n",
    "    spec, os.path.join(data_dir, 'train'), cache=True)\n",
    "train_data, validation_data = train_data.split(0.8)\n",
    "test_data = audio_classifier.DataLoader.from_folder(\n",
    "    spec, os.path.join(data_dir, 'test'), cache=True)"
   ]
  },
  {
   "cell_type": "code",
   "execution_count": 34,
   "metadata": {},
   "outputs": [
    {
     "name": "stdout",
     "output_type": "stream",
     "text": [
      "Training the model\n",
      "Model: \"sequential_2\"\n",
      "_________________________________________________________________\n",
      " Layer (type)                Output Shape              Param #   \n",
      "=================================================================\n",
      " classification_head (Dense)  (None, 3)                3075      \n",
      "                                                                 \n",
      "=================================================================\n",
      "Total params: 3,075\n",
      "Trainable params: 3,075\n",
      "Non-trainable params: 0\n",
      "_________________________________________________________________\n",
      "Epoch 1/25\n",
      "4/4 [==============================] - 8s 775ms/step - loss: 1.3635 - acc: 0.2318 - val_loss: 1.1838 - val_acc: 0.2097\n",
      "Epoch 2/25\n",
      "4/4 [==============================] - 0s 106ms/step - loss: 1.0336 - acc: 0.4136 - val_loss: 0.9555 - val_acc: 0.4919\n",
      "Epoch 3/25\n",
      "4/4 [==============================] - 0s 86ms/step - loss: 0.8239 - acc: 0.6250 - val_loss: 0.7923 - val_acc: 0.6613\n",
      "Epoch 4/25\n",
      "4/4 [==============================] - 0s 82ms/step - loss: 0.6367 - acc: 0.7909 - val_loss: 0.6832 - val_acc: 0.6855\n",
      "Epoch 5/25\n",
      "4/4 [==============================] - 0s 83ms/step - loss: 0.5315 - acc: 0.8432 - val_loss: 0.6111 - val_acc: 0.6935\n",
      "Epoch 6/25\n",
      "4/4 [==============================] - 0s 109ms/step - loss: 0.4679 - acc: 0.8318 - val_loss: 0.5582 - val_acc: 0.6935\n",
      "Epoch 7/25\n",
      "4/4 [==============================] - 0s 84ms/step - loss: 0.4152 - acc: 0.8318 - val_loss: 0.5171 - val_acc: 0.7419\n",
      "Epoch 8/25\n",
      "4/4 [==============================] - 0s 85ms/step - loss: 0.3780 - acc: 0.8568 - val_loss: 0.4806 - val_acc: 0.7500\n",
      "Epoch 9/25\n",
      "4/4 [==============================] - 0s 84ms/step - loss: 0.3628 - acc: 0.8545 - val_loss: 0.4504 - val_acc: 0.7742\n",
      "Epoch 10/25\n",
      "4/4 [==============================] - 0s 79ms/step - loss: 0.3265 - acc: 0.8614 - val_loss: 0.4222 - val_acc: 0.8145\n",
      "Epoch 11/25\n",
      "4/4 [==============================] - 0s 90ms/step - loss: 0.3025 - acc: 0.8909 - val_loss: 0.3979 - val_acc: 0.8548\n",
      "Epoch 12/25\n",
      "4/4 [==============================] - 0s 97ms/step - loss: 0.2899 - acc: 0.8886 - val_loss: 0.3729 - val_acc: 0.9032\n",
      "Epoch 13/25\n",
      "4/4 [==============================] - 0s 95ms/step - loss: 0.2753 - acc: 0.9182 - val_loss: 0.3515 - val_acc: 0.9032\n",
      "Epoch 14/25\n",
      "4/4 [==============================] - 0s 80ms/step - loss: 0.2545 - acc: 0.9182 - val_loss: 0.3318 - val_acc: 0.9274\n",
      "Epoch 15/25\n",
      "4/4 [==============================] - 0s 78ms/step - loss: 0.2482 - acc: 0.9182 - val_loss: 0.3144 - val_acc: 0.9355\n",
      "Epoch 16/25\n",
      "4/4 [==============================] - 0s 86ms/step - loss: 0.2334 - acc: 0.9364 - val_loss: 0.3003 - val_acc: 0.9435\n",
      "Epoch 17/25\n",
      "4/4 [==============================] - 0s 81ms/step - loss: 0.2210 - acc: 0.9386 - val_loss: 0.2864 - val_acc: 0.9435\n",
      "Epoch 18/25\n",
      "4/4 [==============================] - 0s 82ms/step - loss: 0.2190 - acc: 0.9568 - val_loss: 0.2742 - val_acc: 0.9597\n",
      "Epoch 19/25\n",
      "4/4 [==============================] - 0s 78ms/step - loss: 0.2116 - acc: 0.9477 - val_loss: 0.2651 - val_acc: 0.9597\n",
      "Epoch 20/25\n",
      "4/4 [==============================] - 0s 78ms/step - loss: 0.1953 - acc: 0.9523 - val_loss: 0.2564 - val_acc: 0.9597\n",
      "Epoch 21/25\n",
      "4/4 [==============================] - 0s 89ms/step - loss: 0.1979 - acc: 0.9409 - val_loss: 0.2483 - val_acc: 0.9597\n",
      "Epoch 22/25\n",
      "4/4 [==============================] - 0s 80ms/step - loss: 0.1823 - acc: 0.9568 - val_loss: 0.2405 - val_acc: 0.9597\n",
      "Epoch 23/25\n",
      "4/4 [==============================] - 0s 81ms/step - loss: 0.1741 - acc: 0.9614 - val_loss: 0.2340 - val_acc: 0.9677\n",
      "Epoch 24/25\n",
      "4/4 [==============================] - 0s 94ms/step - loss: 0.1661 - acc: 0.9705 - val_loss: 0.2278 - val_acc: 0.9758\n",
      "Epoch 25/25\n",
      "4/4 [==============================] - 0s 80ms/step - loss: 0.1651 - acc: 0.9705 - val_loss: 0.2224 - val_acc: 0.9758\n"
     ]
    }
   ],
   "source": [
    "batch_size = 128\n",
    "epochs = 25\n",
    "\n",
    "print('Training the model')\n",
    "model = audio_classifier.create(\n",
    "    train_data,\n",
    "    spec,\n",
    "    validation_data,\n",
    "    batch_size=batch_size,\n",
    "    epochs=epochs)"
   ]
  },
  {
   "cell_type": "code",
   "execution_count": 35,
   "metadata": {},
   "outputs": [
    {
     "name": "stdout",
     "output_type": "stream",
     "text": [
      "Evaluating the model\n",
      "5/5 [==============================] - 2s 257ms/step - loss: 0.1497 - acc: 0.9858\n"
     ]
    },
    {
     "data": {
      "text/plain": [
       "[0.1497221142053604, 0.9858155846595764]"
      ]
     },
     "execution_count": 35,
     "metadata": {},
     "output_type": "execute_result"
    }
   ],
   "source": [
    "print('Evaluating the model')\n",
    "model.evaluate(test_data)"
   ]
  },
  {
   "cell_type": "code",
   "execution_count": 36,
   "metadata": {},
   "outputs": [
    {
     "name": "stdout",
     "output_type": "stream",
     "text": [
      "WARNING:tensorflow:5 out of the last 27 calls to <function Model.make_predict_function.<locals>.predict_function at 0x7f3cc226c1f0> triggered tf.function retracing. Tracing is expensive and the excessive number of tracings could be due to (1) creating @tf.function repeatedly in a loop, (2) passing tensors with different shapes, (3) passing Python objects instead of tensors. For (1), please define your @tf.function outside of the loop. For (2), @tf.function has experimental_relax_shapes=True option that relaxes argument shapes that can avoid unnecessary retracing. For (3), please refer to https://www.tensorflow.org/guide/function#controlling_retracing and https://www.tensorflow.org/api_docs/python/tf/function for  more details.\n"
     ]
    },
    {
     "name": "stderr",
     "output_type": "stream",
     "text": [
      "WARNING:tensorflow:5 out of the last 27 calls to <function Model.make_predict_function.<locals>.predict_function at 0x7f3cc226c1f0> triggered tf.function retracing. Tracing is expensive and the excessive number of tracings could be due to (1) creating @tf.function repeatedly in a loop, (2) passing tensors with different shapes, (3) passing Python objects instead of tensors. For (1), please define your @tf.function outside of the loop. For (2), @tf.function has experimental_relax_shapes=True option that relaxes argument shapes that can avoid unnecessary retracing. For (3), please refer to https://www.tensorflow.org/guide/function#controlling_retracing and https://www.tensorflow.org/api_docs/python/tf/function for  more details.\n"
     ]
    },
    {
     "data": {
      "image/png": "[encoded data removed]",
      "text/plain": [
       "<Figure size 640x480 with 2 Axes>"
      ]
     },
     "metadata": {},
     "output_type": "display_data"
    }
   ],
   "source": [
    "def show_confusion_matrix(confusion, test_labels):\n",
    "    \"\"\"Compute confusion matrix and normalize.\"\"\"\n",
    "    confusion_normalized = confusion.astype(\"float\") / confusion.sum(axis=1)\n",
    "    axis_labels = test_labels\n",
    "    ax = sns.heatmap(\n",
    "        confusion_normalized, xticklabels=axis_labels, yticklabels=axis_labels,\n",
    "        cmap='Blues', annot=True, fmt='.2f', square=True)\n",
    "    plt.title(\"Confusion matrix\")\n",
    "    plt.ylabel(\"True label\")\n",
    "    plt.xlabel(\"Predicted label\")\n",
    "\n",
    "\n",
    "confusion_matrix = model.confusion_matrix(test_data)\n",
    "show_confusion_matrix(confusion_matrix.numpy(), test_data.index_to_label)"
   ]
  },
  {
   "cell_type": "code",
   "execution_count": 37,
   "metadata": {},
   "outputs": [
    {
     "name": "stdout",
     "output_type": "stream",
     "text": [
      "Model's input shape and type: [<KerasTensor: shape=(None, 15600) dtype=float32 (created by layer 'audio')>]\n",
      "Model's output shape and type: [<KerasTensor: shape=(None, 3) dtype=float32 (created by layer 'sequential_2')>]\n"
     ]
    }
   ],
   "source": [
    "serving_model = model.create_serving_model()\n",
    "\n",
    "print(f'Model\\'s input shape and type: {serving_model.inputs}')\n",
    "print(f'Model\\'s output shape and type: {serving_model.outputs}')"
   ]
  },
  {
   "cell_type": "code",
   "execution_count": 38,
   "metadata": {},
   "outputs": [
    {
     "name": "stdout",
     "output_type": "stream",
     "text": [
      "Exporing the TFLite model to ./snoring_models\n",
      "INFO:tensorflow:Assets written to: /tmp/tmp0jz0a2zk/assets\n"
     ]
    },
    {
     "name": "stderr",
     "output_type": "stream",
     "text": [
      "INFO:tensorflow:Assets written to: /tmp/tmp0jz0a2zk/assets\n",
      "2022-12-14 21:47:17.719105: I tensorflow/stream_executor/cuda/cuda_gpu_executor.cc:922] could not open file to read NUMA node: /sys/bus/pci/devices/0000:01:00.0/numa_node\n",
      "Your kernel may have been built without NUMA support.\n",
      "2022-12-14 21:47:17.719184: I tensorflow/core/grappler/devices.cc:66] Number of eligible GPUs (core count >= 8, compute capability >= 0.0): 1\n",
      "2022-12-14 21:47:17.719337: I tensorflow/core/grappler/clusters/single_machine.cc:358] Starting new session\n",
      "2022-12-14 21:47:17.719870: I tensorflow/stream_executor/cuda/cuda_gpu_executor.cc:922] could not open file to read NUMA node: /sys/bus/pci/devices/0000:01:00.0/numa_node\n",
      "Your kernel may have been built without NUMA support.\n",
      "2022-12-14 21:47:17.719900: W tensorflow/core/common_runtime/gpu/gpu_device.cc:1850] Cannot dlopen some GPU libraries. Please make sure the missing libraries mentioned above are installed properly if you would like to use GPU. Follow the guide at https://www.tensorflow.org/install/gpu for how to download and setup the required libraries for your platform.\n",
      "Skipping registering GPU devices...\n",
      "2022-12-14 21:47:17.790607: I tensorflow/core/grappler/optimizers/meta_optimizer.cc:1164] Optimization results for grappler item: graph_to_optimize\n",
      "  function_optimizer: Graph size after: 808 nodes (658), 1191 edges (1039), time = 38.687ms.\n",
      "  function_optimizer: function_optimizer did nothing. time = 0.017ms.\n",
      "\n",
      "2022-12-14 21:47:18.446636: W tensorflow/compiler/mlir/lite/python/tf_tfl_flatbuffer_helpers.cc:357] Ignored output_format.\n",
      "2022-12-14 21:47:18.446712: W tensorflow/compiler/mlir/lite/python/tf_tfl_flatbuffer_helpers.cc:360] Ignored drop_control_dependency.\n",
      "2022-12-14 21:47:18.577740: I tensorflow/compiler/mlir/lite/flatbuffer_export.cc:1963] Estimated count of arithmetic ops: 141.089 M  ops, equivalently 70.545 M  MACs\n",
      "\n",
      "WARNING:absl:Buffer deduplication procedure will be skipped when flatbuffer library is not properly loaded\n"
     ]
    },
    {
     "name": "stdout",
     "output_type": "stream",
     "text": [
      "Estimated count of arithmetic ops: 141.089 M  ops, equivalently 70.545 M  MACs\n",
      "INFO:tensorflow:TensorFlow Lite model exported successfully: ./snoring_models/snoring_model.tflite\n"
     ]
    },
    {
     "name": "stderr",
     "output_type": "stream",
     "text": [
      "INFO:tensorflow:TensorFlow Lite model exported successfully: ./snoring_models/snoring_model.tflite\n"
     ]
    }
   ],
   "source": [
    "models_path = './snoring_models'\n",
    "print(f'Exporing the TFLite model to {models_path}')\n",
    "\n",
    "model.export(models_path, tflite_filename='snoring_model.tflite')"
   ]
  },
  {
   "cell_type": "code",
   "execution_count": 39,
   "metadata": {},
   "outputs": [
    {
     "name": "stdout",
     "output_type": "stream",
     "text": [
      "WARNING:tensorflow:Compiled the loaded model, but the compiled metrics have yet to be built. `model.compile_metrics` will be empty until you train or evaluate the model.\n"
     ]
    },
    {
     "name": "stderr",
     "output_type": "stream",
     "text": [
      "WARNING:tensorflow:Compiled the loaded model, but the compiled metrics have yet to be built. `model.compile_metrics` will be empty until you train or evaluate the model.\n"
     ]
    },
    {
     "name": "stdout",
     "output_type": "stream",
     "text": [
      "INFO:tensorflow:Assets written to: ./snoring_models/saved_model/assets\n"
     ]
    },
    {
     "name": "stderr",
     "output_type": "stream",
     "text": [
      "INFO:tensorflow:Assets written to: ./snoring_models/saved_model/assets\n"
     ]
    },
    {
     "name": "stdout",
     "output_type": "stream",
     "text": [
      "INFO:tensorflow:Saving labels in ./snoring_models/labels.txt\n"
     ]
    },
    {
     "name": "stderr",
     "output_type": "stream",
     "text": [
      "INFO:tensorflow:Saving labels in ./snoring_models/labels.txt\n"
     ]
    }
   ],
   "source": [
    "model.export(models_path, export_format=[mm.ExportFormat.SAVED_MODEL, mm.ExportFormat.LABEL])"
   ]
  }
 ],
 "metadata": {
  "kernelspec": {
   "display_name": "Python 3.8.15 ('base')",
   "language": "python",
   "name": "python3"
  },
  "language_info": {
   "codemirror_mode": {
    "name": "ipython",
    "version": 3
   },
   "file_extension": ".py",
   "mimetype": "text/x-python",
   "name": "python",
   "nbconvert_exporter": "python",
   "pygments_lexer": "ipython3",
   "version": "3.8.15"
  },
  "orig_nbformat": 4,
  "vscode": {
   "interpreter": {
    "hash": "ad02fafceaa3fab132096623a0dfc25df78c3948a0e8cf73aaa983db17e85d66"
   }
  }
 },
 "nbformat": 4,
 "nbformat_minor": 2
}
