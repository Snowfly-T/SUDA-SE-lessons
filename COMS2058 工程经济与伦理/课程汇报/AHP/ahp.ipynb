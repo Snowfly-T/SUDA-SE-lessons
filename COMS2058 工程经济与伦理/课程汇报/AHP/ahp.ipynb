{
 "cells": [
  {
   "cell_type": "code",
   "execution_count": 7,
   "metadata": {},
   "outputs": [],
   "source": [
    "import numpy as np\n",
    "from scipy.linalg import eig"
   ]
  },
  {
   "cell_type": "code",
   "execution_count": 8,
   "metadata": {},
   "outputs": [],
   "source": [
    "# 成对比较矩阵\n",
    "A = np.array([\n",
    "    [1, 1/5, 1/2, 1/3, 1/4, 1/5],\n",
    "    [5, 1, 5, 1/3, 5, 1/2],\n",
    "    [2, 1/5, 1, 1/6, 2, 1/3],\n",
    "    [3, 3, 6, 1, 7, 5],\n",
    "    [4, 1/5, 1/2, 1/7, 1, 1/5],\n",
    "    [5, 2, 3, 1/5, 5, 1]\n",
    "])\n",
    "B = np.array([\n",
    "    [1, 1/6, 1, 1/4, 3, 1],\n",
    "    [6, 1, 2, 1, 3, 1],\n",
    "    [1, 1/2, 1, 2, 3, 1/2],\n",
    "    [4, 1, 1/2, 1, 5, 1],\n",
    "    [1/3, 1/3, 1/3, 1/5, 1, 1/5],\n",
    "    [1, 1, 2, 1, 5, 1]\n",
    "])\n",
    "C = np.array([\n",
    "    [1, 1/6, 1/2, 1/6, 1, 3],\n",
    "    [6, 1, 3, 5, 9, 9],\n",
    "    [2, 1/3, 1, 3, 9, 5],\n",
    "    [6, 1/5, 1/3, 1, 5, 1],\n",
    "    [1, 1/9, 1/9, 1/5, 1, 2],\n",
    "    [1/3, 1/9, 1/5, 1, 1/2, 1]\n",
    "])\n",
    "D = np.array([\n",
    "    [1, 1/7, 1/5, 1/5, 1/4, 1/2],\n",
    "    [7, 1, 4, 1, 5, 5],\n",
    "    [5, 1/4, 1, 1/5, 3, 3],\n",
    "    [5, 1, 5, 1, 5, 5],\n",
    "    [4, 1/5, 1/3, 1/5, 1, 1],\n",
    "    [2, 1/5, 1/3, 1/5, 1, 1]\n",
    "])"
   ]
  },
  {
   "cell_type": "code",
   "execution_count": 9,
   "metadata": {},
   "outputs": [
    {
     "data": {
      "text/plain": [
       "array([[1.        , 0.16904762, 0.55      , 0.2375    , 1.125     ,\n",
       "        1.175     ],\n",
       "       [6.        , 1.        , 3.5       , 1.83333333, 5.5       ,\n",
       "        3.875     ],\n",
       "       [2.5       , 0.32083333, 1.        , 1.34166667, 4.25      ,\n",
       "        2.20833333],\n",
       "       [4.5       , 1.3       , 2.95833333, 1.        , 5.5       ,\n",
       "        3.        ],\n",
       "       [2.33333333, 0.21111111, 0.31944444, 0.18571429, 1.        ,\n",
       "        0.85      ],\n",
       "       [2.08333333, 0.82777778, 1.38333333, 0.6       , 2.875     ,\n",
       "        1.        ]])"
      ]
     },
     "execution_count": 9,
     "metadata": {},
     "output_type": "execute_result"
    }
   ],
   "source": [
    "# 计算平均值\n",
    "X = (A + B + C + D) / 4\n",
    "X"
   ]
  },
  {
   "cell_type": "code",
   "execution_count": 10,
   "metadata": {},
   "outputs": [
    {
     "data": {
      "text/plain": [
       "(array([ 8.10889530e+00+0.j        , -4.03192666e-03+0.51772283j,\n",
       "        -4.03192666e-03-0.51772283j, -6.38337795e-01+0.55084863j,\n",
       "        -6.38337795e-01-0.55084863j, -8.24155856e-01+0.j        ]),\n",
       " array([[-0.12782961+0.j        , -0.00289873-0.05264266j,\n",
       "         -0.00289873+0.05264266j,  0.03179553+0.16543449j,\n",
       "          0.03179553-0.16543449j,  0.03856321+0.j        ],\n",
       "        [-0.67315119+0.j        ,  0.76873467+0.j        ,\n",
       "          0.76873467-0.j        ,  0.70806471+0.j        ,\n",
       "          0.70806471-0.j        , -0.38075781+0.j        ],\n",
       "        [-0.34416005+0.j        , -0.20280094+0.31851857j,\n",
       "         -0.20280094-0.31851857j, -0.47065529+0.33639361j,\n",
       "         -0.47065529-0.33639361j,  0.62834653+0.j        ],\n",
       "        [-0.56319717+0.j        ,  0.34465085+0.19378205j,\n",
       "          0.34465085-0.19378205j,  0.23193996+0.00449336j,\n",
       "          0.23193996-0.00449336j, -0.6383135 +0.j        ],\n",
       "        [-0.12574921+0.j        , -0.24879165-0.10954668j,\n",
       "         -0.24879165+0.10954668j,  0.03703824-0.18907219j,\n",
       "          0.03703824+0.18907219j,  0.05234234+0.j        ],\n",
       "        [-0.28120637+0.j        ,  0.17854341-0.03967171j,\n",
       "          0.17854341+0.03967171j, -0.08579676-0.19310681j,\n",
       "         -0.08579676+0.19310681j, -0.22030244+0.j        ]]))"
      ]
     },
     "execution_count": 10,
     "metadata": {},
     "output_type": "execute_result"
    }
   ],
   "source": [
    "# 计算特征向量和特征值\n",
    "eigenvalues, eigenvectors = eig(X)\n",
    "eigenvalues, eigenvectors"
   ]
  },
  {
   "cell_type": "code",
   "execution_count": 11,
   "metadata": {},
   "outputs": [
    {
     "data": {
      "text/plain": [
       "(0,\n",
       " array([-0.12782961+0.j, -0.67315119+0.j, -0.34416005+0.j, -0.56319717+0.j,\n",
       "        -0.12574921+0.j, -0.28120637+0.j]))"
      ]
     },
     "execution_count": 11,
     "metadata": {},
     "output_type": "execute_result"
    }
   ],
   "source": [
    "# 找到最大的特征值及其对应的特征向量\n",
    "max_eigenvalue_index = np.argmax(eigenvalues)\n",
    "max_eigenvalue_vector = eigenvectors[:, max_eigenvalue_index]\n",
    "max_eigenvalue_index, max_eigenvalue_vector"
   ]
  },
  {
   "cell_type": "code",
   "execution_count": 12,
   "metadata": {},
   "outputs": [
    {
     "data": {
      "text/plain": [
       "array([0.06043114-0.j, 0.31823062-0.j, 0.16270084-0.j, 0.26625012-0.j,\n",
       "       0.05944764-0.j, 0.13293964-0.j])"
      ]
     },
     "execution_count": 12,
     "metadata": {},
     "output_type": "execute_result"
    }
   ],
   "source": [
    "# 归一化特征向量，得到权重向量\n",
    "weights = max_eigenvalue_vector / np.sum(max_eigenvalue_vector)\n",
    "weights"
   ]
  }
 ],
 "metadata": {
  "kernelspec": {
   "display_name": "Python 3",
   "language": "python",
   "name": "python3"
  },
  "language_info": {
   "codemirror_mode": {
    "name": "ipython",
    "version": 3
   },
   "file_extension": ".py",
   "mimetype": "text/x-python",
   "name": "python",
   "nbconvert_exporter": "python",
   "pygments_lexer": "ipython3",
   "version": "3.11.3"
  },
  "orig_nbformat": 4
 },
 "nbformat": 4,
 "nbformat_minor": 2
}
